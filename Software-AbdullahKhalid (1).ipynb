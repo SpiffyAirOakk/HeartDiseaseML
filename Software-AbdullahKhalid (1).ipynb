{
 "cells": [
  {
   "cell_type": "markdown",
   "id": "67262d65",
   "metadata": {},
   "source": [
    "# Heart Disease ML Pipeline"
   ]
  },
  {
   "cell_type": "markdown",
   "id": "7cd8db10",
   "metadata": {},
   "source": [
    "## Refrences"
   ]
  },
  {
   "cell_type": "markdown",
   "id": "7099dba2",
   "metadata": {},
   "source": [
    "https://www.kaggle.com/code/faressayah/predicting-heart-disease-using-machine-learning/notebook\n",
    "\n",
    "https://www.kaggle.com/code/cdabakoglu/heart-disease-classifications-machine-learning/notebook\n",
    "\n",
    "https://www.kaggle.com/code/arjunprasadsarkhel/simple-random-forest-with-hyperparameter-tuning\n",
    "\n",
    "https://www.kaggle.com/code/rajeevnair676/svm-hyperparameter-tuning/notebook"
   ]
  },
  {
   "cell_type": "code",
   "execution_count": 1,
   "id": "ec2c8c96",
   "metadata": {},
   "outputs": [],
   "source": [
    "## Import all the libraries\n",
    "import numpy as np\n",
    "import pandas as pd\n",
    "#from sklearn.metrics import r2_score\n",
    "from scipy.stats import spearmanr, pearsonr\n",
    "import matplotlib.pyplot as plt\n",
    "import seaborn as sns\n",
    "from sklearn.linear_model import LogisticRegression\n",
    "from sklearn.model_selection import train_test_split\n",
    "from sklearn.model_selection import GridSearchCV\n",
    "from sklearn import *\n",
    "from hummingbird.ml import convert, load\n"
   ]
  },
  {
   "cell_type": "markdown",
   "id": "e8dcca02",
   "metadata": {},
   "source": [
    "## Import the Data"
   ]
  },
  {
   "cell_type": "markdown",
   "id": "5233fe71",
   "metadata": {},
   "source": [
    "In this part we just import all the data."
   ]
  },
  {
   "cell_type": "code",
   "execution_count": 2,
   "id": "aa34d576",
   "metadata": {},
   "outputs": [
    {
     "data": {
      "text/html": [
       "<div>\n",
       "<style scoped>\n",
       "    .dataframe tbody tr th:only-of-type {\n",
       "        vertical-align: middle;\n",
       "    }\n",
       "\n",
       "    .dataframe tbody tr th {\n",
       "        vertical-align: top;\n",
       "    }\n",
       "\n",
       "    .dataframe thead th {\n",
       "        text-align: right;\n",
       "    }\n",
       "</style>\n",
       "<table border=\"1\" class=\"dataframe\">\n",
       "  <thead>\n",
       "    <tr style=\"text-align: right;\">\n",
       "      <th></th>\n",
       "      <th>age</th>\n",
       "      <th>sex</th>\n",
       "      <th>cp</th>\n",
       "      <th>trestbps</th>\n",
       "      <th>chol</th>\n",
       "      <th>fbs</th>\n",
       "      <th>restecg</th>\n",
       "      <th>thalach</th>\n",
       "      <th>exang</th>\n",
       "      <th>oldpeak</th>\n",
       "      <th>slope</th>\n",
       "      <th>ca</th>\n",
       "      <th>thal</th>\n",
       "      <th>target</th>\n",
       "    </tr>\n",
       "  </thead>\n",
       "  <tbody>\n",
       "    <tr>\n",
       "      <th>0</th>\n",
       "      <td>63</td>\n",
       "      <td>1</td>\n",
       "      <td>3</td>\n",
       "      <td>145</td>\n",
       "      <td>233</td>\n",
       "      <td>1</td>\n",
       "      <td>0</td>\n",
       "      <td>150</td>\n",
       "      <td>0</td>\n",
       "      <td>2.3</td>\n",
       "      <td>0</td>\n",
       "      <td>0</td>\n",
       "      <td>1</td>\n",
       "      <td>1</td>\n",
       "    </tr>\n",
       "    <tr>\n",
       "      <th>1</th>\n",
       "      <td>37</td>\n",
       "      <td>1</td>\n",
       "      <td>2</td>\n",
       "      <td>130</td>\n",
       "      <td>250</td>\n",
       "      <td>0</td>\n",
       "      <td>1</td>\n",
       "      <td>187</td>\n",
       "      <td>0</td>\n",
       "      <td>3.5</td>\n",
       "      <td>0</td>\n",
       "      <td>0</td>\n",
       "      <td>2</td>\n",
       "      <td>1</td>\n",
       "    </tr>\n",
       "    <tr>\n",
       "      <th>2</th>\n",
       "      <td>41</td>\n",
       "      <td>0</td>\n",
       "      <td>1</td>\n",
       "      <td>130</td>\n",
       "      <td>204</td>\n",
       "      <td>0</td>\n",
       "      <td>0</td>\n",
       "      <td>172</td>\n",
       "      <td>0</td>\n",
       "      <td>1.4</td>\n",
       "      <td>2</td>\n",
       "      <td>0</td>\n",
       "      <td>2</td>\n",
       "      <td>1</td>\n",
       "    </tr>\n",
       "    <tr>\n",
       "      <th>3</th>\n",
       "      <td>56</td>\n",
       "      <td>1</td>\n",
       "      <td>1</td>\n",
       "      <td>120</td>\n",
       "      <td>236</td>\n",
       "      <td>0</td>\n",
       "      <td>1</td>\n",
       "      <td>178</td>\n",
       "      <td>0</td>\n",
       "      <td>0.8</td>\n",
       "      <td>2</td>\n",
       "      <td>0</td>\n",
       "      <td>2</td>\n",
       "      <td>1</td>\n",
       "    </tr>\n",
       "    <tr>\n",
       "      <th>4</th>\n",
       "      <td>57</td>\n",
       "      <td>0</td>\n",
       "      <td>0</td>\n",
       "      <td>120</td>\n",
       "      <td>354</td>\n",
       "      <td>0</td>\n",
       "      <td>1</td>\n",
       "      <td>163</td>\n",
       "      <td>1</td>\n",
       "      <td>0.6</td>\n",
       "      <td>2</td>\n",
       "      <td>0</td>\n",
       "      <td>2</td>\n",
       "      <td>1</td>\n",
       "    </tr>\n",
       "  </tbody>\n",
       "</table>\n",
       "</div>"
      ],
      "text/plain": [
       "   age  sex  cp  trestbps  chol  fbs  restecg  thalach  exang  oldpeak  slope  \\\n",
       "0   63    1   3       145   233    1        0      150      0      2.3      0   \n",
       "1   37    1   2       130   250    0        1      187      0      3.5      0   \n",
       "2   41    0   1       130   204    0        0      172      0      1.4      2   \n",
       "3   56    1   1       120   236    0        1      178      0      0.8      2   \n",
       "4   57    0   0       120   354    0        1      163      1      0.6      2   \n",
       "\n",
       "   ca  thal  target  \n",
       "0   0     1       1  \n",
       "1   0     2       1  \n",
       "2   0     2       1  \n",
       "3   0     2       1  \n",
       "4   0     2       1  "
      ]
     },
     "execution_count": 2,
     "metadata": {},
     "output_type": "execute_result"
    }
   ],
   "source": [
    "## Load the data\n",
    "df = pd.read_csv(r\"C:\\Users\\abdul\\Downloads\\heart_disease_dataset.csv\")\n",
    "df.head()"
   ]
  },
  {
   "cell_type": "markdown",
   "id": "34001eba",
   "metadata": {},
   "source": [
    "# Data Visualisation"
   ]
  },
  {
   "cell_type": "markdown",
   "id": "0c599154",
   "metadata": {},
   "source": [
    "### Total number of Sick & Healthy People"
   ]
  },
  {
   "cell_type": "markdown",
   "id": "c273d455",
   "metadata": {},
   "source": [
    "This shows the total number of sick and healthy people."
   ]
  },
  {
   "cell_type": "code",
   "execution_count": 3,
   "id": "dd9865de",
   "metadata": {},
   "outputs": [
    {
     "name": "stdout",
     "output_type": "stream",
     "text": [
      "Number of people with disease is 165  or 54.46% \n",
      "Number of people who dont have disease is 138  or 45.54% \n"
     ]
    }
   ],
   "source": [
    "## Make graphs all this is pretty self explanatory\n",
    "have_disease=(df.target==1).sum()\n",
    "print('Number of people with disease is', have_disease, ' or {:.2f}% '.format(have_disease/df.target.count()*100))\n",
    "dont_have_disease=(df.target==0).sum()\n",
    "print('Number of people who dont have disease is',dont_have_disease,' or {:.2f}% '.format(dont_have_disease/df.target.count()*100))"
   ]
  },
  {
   "cell_type": "markdown",
   "id": "9861bc70",
   "metadata": {},
   "source": [
    "Shows the graph."
   ]
  },
  {
   "cell_type": "code",
   "execution_count": 4,
   "id": "4751ef50",
   "metadata": {},
   "outputs": [
    {
     "data": {
      "image/png": "[encoded data removed]",
      "text/plain": [
       "<Figure size 640x480 with 1 Axes>"
      ]
     },
     "metadata": {},
     "output_type": "display_data"
    }
   ],
   "source": [
    "sns.countplot(x=\"target\", data=df)\n",
    "plt.show()"
   ]
  },
  {
   "cell_type": "markdown",
   "id": "ed43b31b",
   "metadata": {},
   "source": [
    "### Total Number of Males and Females in the data"
   ]
  },
  {
   "cell_type": "markdown",
   "id": "52383f1e",
   "metadata": {},
   "source": [
    "This shows total number of males and females."
   ]
  },
  {
   "cell_type": "code",
   "execution_count": 5,
   "id": "ba8eee6f",
   "metadata": {},
   "outputs": [
    {
     "name": "stdout",
     "output_type": "stream",
     "text": [
      "Out of all the patients there are  207 Males or 68.32%\n",
      "Out of all the patients there are  96 females or 31.68%\n"
     ]
    }
   ],
   "source": [
    "male=(df.sex==1).sum()\n",
    "print('Out of all the patients there are ',male,'Males or {:.2f}%'.format(male/df.sex.count()*100))\n",
    "female=(df.sex==0).sum()\n",
    "print('Out of all the patients there are ',female,'females or {:.2f}%'.format(female/df.sex.count()*100))"
   ]
  },
  {
   "cell_type": "code",
   "execution_count": 6,
   "id": "bdafdf91",
   "metadata": {},
   "outputs": [
    {
     "data": {
      "image/png": "[encoded data removed]",
      "text/plain": [
       "<Figure size 640x480 with 1 Axes>"
      ]
     },
     "metadata": {},
     "output_type": "display_data"
    }
   ],
   "source": [
    "sns.countplot(x='sex', data=df)\n",
    "plt.xlabel(\"Sex (0 = female, 1= male)\")\n",
    "plt.show()"
   ]
  },
  {
   "cell_type": "markdown",
   "id": "3f5a3e79",
   "metadata": {},
   "source": [
    "### Data about Helathy and Sick People"
   ]
  },
  {
   "cell_type": "markdown",
   "id": "d26423d7",
   "metadata": {},
   "source": [
    "This shows characterstics about healthy and sick people."
   ]
  },
  {
   "cell_type": "code",
   "execution_count": 7,
   "id": "ed007114",
   "metadata": {},
   "outputs": [
    {
     "data": {
      "text/html": [
       "<div>\n",
       "<style scoped>\n",
       "    .dataframe tbody tr th:only-of-type {\n",
       "        vertical-align: middle;\n",
       "    }\n",
       "\n",
       "    .dataframe tbody tr th {\n",
       "        vertical-align: top;\n",
       "    }\n",
       "\n",
       "    .dataframe thead th {\n",
       "        text-align: right;\n",
       "    }\n",
       "</style>\n",
       "<table border=\"1\" class=\"dataframe\">\n",
       "  <thead>\n",
       "    <tr style=\"text-align: right;\">\n",
       "      <th></th>\n",
       "      <th>age</th>\n",
       "      <th>sex</th>\n",
       "      <th>cp</th>\n",
       "      <th>trestbps</th>\n",
       "      <th>chol</th>\n",
       "      <th>fbs</th>\n",
       "      <th>restecg</th>\n",
       "      <th>thalach</th>\n",
       "      <th>exang</th>\n",
       "      <th>oldpeak</th>\n",
       "      <th>slope</th>\n",
       "      <th>ca</th>\n",
       "      <th>thal</th>\n",
       "    </tr>\n",
       "    <tr>\n",
       "      <th>target</th>\n",
       "      <th></th>\n",
       "      <th></th>\n",
       "      <th></th>\n",
       "      <th></th>\n",
       "      <th></th>\n",
       "      <th></th>\n",
       "      <th></th>\n",
       "      <th></th>\n",
       "      <th></th>\n",
       "      <th></th>\n",
       "      <th></th>\n",
       "      <th></th>\n",
       "      <th></th>\n",
       "    </tr>\n",
       "  </thead>\n",
       "  <tbody>\n",
       "    <tr>\n",
       "      <th>0</th>\n",
       "      <td>56.6</td>\n",
       "      <td>0.83</td>\n",
       "      <td>0.48</td>\n",
       "      <td>134.4</td>\n",
       "      <td>251.09</td>\n",
       "      <td>0.16</td>\n",
       "      <td>0.45</td>\n",
       "      <td>139.10</td>\n",
       "      <td>0.55</td>\n",
       "      <td>1.59</td>\n",
       "      <td>1.17</td>\n",
       "      <td>1.17</td>\n",
       "      <td>2.54</td>\n",
       "    </tr>\n",
       "    <tr>\n",
       "      <th>1</th>\n",
       "      <td>52.5</td>\n",
       "      <td>0.56</td>\n",
       "      <td>1.38</td>\n",
       "      <td>129.3</td>\n",
       "      <td>242.23</td>\n",
       "      <td>0.14</td>\n",
       "      <td>0.59</td>\n",
       "      <td>158.47</td>\n",
       "      <td>0.14</td>\n",
       "      <td>0.58</td>\n",
       "      <td>1.59</td>\n",
       "      <td>0.36</td>\n",
       "      <td>2.12</td>\n",
       "    </tr>\n",
       "  </tbody>\n",
       "</table>\n",
       "</div>"
      ],
      "text/plain": [
       "         age   sex    cp  trestbps    chol   fbs  restecg  thalach  exang  \\\n",
       "target                                                                      \n",
       "0       56.6  0.83  0.48     134.4  251.09  0.16     0.45   139.10   0.55   \n",
       "1       52.5  0.56  1.38     129.3  242.23  0.14     0.59   158.47   0.14   \n",
       "\n",
       "        oldpeak  slope    ca  thal  \n",
       "target                              \n",
       "0          1.59   1.17  1.17  2.54  \n",
       "1          0.58   1.59  0.36  2.12  "
      ]
     },
     "execution_count": 7,
     "metadata": {},
     "output_type": "execute_result"
    }
   ],
   "source": [
    "df.groupby('target').mean().round(2)"
   ]
  },
  {
   "cell_type": "markdown",
   "id": "b0d40316",
   "metadata": {},
   "source": [
    "### Heart Disease and Ages"
   ]
  },
  {
   "cell_type": "markdown",
   "id": "d9b5d690",
   "metadata": {},
   "source": [
    "This shows number of healthy and sick people according to their ages."
   ]
  },
  {
   "cell_type": "code",
   "execution_count": 8,
   "id": "f96bae08",
   "metadata": {},
   "outputs": [
    {
     "data": {
      "image/png": "[encoded data removed]",
      "text/plain": [
       "<Figure size 2000x600 with 1 Axes>"
      ]
     },
     "metadata": {},
     "output_type": "display_data"
    }
   ],
   "source": [
    "pd.crosstab(df.age,df.target).plot(kind=\"bar\",figsize=(20,6))\n",
    "plt.title('Heart Disease numbers and Ages')\n",
    "plt.xlabel('Age')\n",
    "plt.ylabel('Frequency')\n",
    "plt.legend(['No Disease', 'Disease'])\n",
    "plt.show()"
   ]
  },
  {
   "cell_type": "markdown",
   "id": "bb44e6df",
   "metadata": {},
   "source": [
    "### How many Males and Females have heart disease?"
   ]
  },
  {
   "cell_type": "markdown",
   "id": "e802bb88",
   "metadata": {},
   "source": [
    "This shows how many males and females are sick or healthy"
   ]
  },
  {
   "cell_type": "code",
   "execution_count": 9,
   "id": "a0ec1b47",
   "metadata": {
    "scrolled": false
   },
   "outputs": [
    {
     "data": {
      "image/png": "[encoded data removed]",
      "text/plain": [
       "<Figure size 1500x600 with 1 Axes>"
      ]
     },
     "metadata": {},
     "output_type": "display_data"
    }
   ],
   "source": [
    "pd.crosstab(df.sex,df.target).plot(kind='bar',figsize=(15,6))\n",
    "plt.xticks(np.arange(2), ('Female','Male'))\n",
    "plt.xticks(rotation=0)\n",
    "plt.title('Heart disease and gender')\n",
    "plt.xlabel('Gender')\n",
    "plt.ylabel('Frequency')\n",
    "plt.legend(['No Disease', 'Disease'])\n",
    "plt.show()"
   ]
  },
  {
   "cell_type": "markdown",
   "id": "5027671e",
   "metadata": {},
   "source": [
    "### Types of Angina and its Relation with Heart Disease"
   ]
  },
  {
   "cell_type": "markdown",
   "id": "ad0861ef",
   "metadata": {},
   "source": [
    "This shows types of Angina and its Relation with Heart Disease"
   ]
  },
  {
   "cell_type": "code",
   "execution_count": 10,
   "id": "5ed15c97",
   "metadata": {},
   "outputs": [
    {
     "name": "stdout",
     "output_type": "stream",
     "text": [
      "People with typical angina = 143\n",
      "People with atypical angina = 50\n",
      "People with non anginal pain = 87\n",
      "People with asymptomatic = 23\n"
     ]
    }
   ],
   "source": [
    "typical_angina=(df.cp==0).sum()\n",
    "atypical_angina=(df.cp==1).sum()\n",
    "non_anginal_pain=(df.cp==2).sum()\n",
    "asymptomatic=(df.cp==3).sum()\n",
    "print('People with typical angina =',typical_angina)\n",
    "print('People with atypical angina =',atypical_angina)\n",
    "print('People with non anginal pain =',non_anginal_pain)\n",
    "print('People with asymptomatic =',asymptomatic)"
   ]
  },
  {
   "cell_type": "markdown",
   "id": "0d00a9eb",
   "metadata": {},
   "source": [
    "#### In terms of Gender"
   ]
  },
  {
   "cell_type": "markdown",
   "id": "fa39e800",
   "metadata": {},
   "source": [
    "This shows types of angina across different genders."
   ]
  },
  {
   "cell_type": "code",
   "execution_count": 11,
   "id": "a190e111",
   "metadata": {},
   "outputs": [
    {
     "data": {
      "image/png": "[encoded data removed]",
      "text/plain": [
       "<Figure size 1500x600 with 1 Axes>"
      ]
     },
     "metadata": {},
     "output_type": "display_data"
    }
   ],
   "source": [
    "pd.crosstab(df.cp,df.sex).plot(kind='bar',figsize=(15,6))\n",
    "plt.title('Chest pain across genders')\n",
    "plt.xticks(np.arange(4), ('Typical Angina','Atypical Angina','Non Anginal Pain','Asymptomatic'))\n",
    "plt.xlabel('Chest Pain Level')\n",
    "plt.ylabel('Frequency')\n",
    "plt.xticks(rotation=0)\n",
    "plt.legend(['Males', 'Females'])\n",
    "plt.show()"
   ]
  },
  {
   "cell_type": "markdown",
   "id": "640a3895",
   "metadata": {},
   "source": [
    "#### In terms of Disease Numbers"
   ]
  },
  {
   "cell_type": "markdown",
   "id": "89254516",
   "metadata": {},
   "source": [
    "This shows types of angine across sick and healthy people."
   ]
  },
  {
   "cell_type": "code",
   "execution_count": 12,
   "id": "a4ba6cc7",
   "metadata": {},
   "outputs": [
    {
     "data": {
      "image/png": "[encoded data removed]",
      "text/plain": [
       "<Figure size 1500x600 with 1 Axes>"
      ]
     },
     "metadata": {},
     "output_type": "display_data"
    }
   ],
   "source": [
    "pd.crosstab(df.cp,df.target).plot(kind='bar',figsize=(15,6))\n",
    "plt.title('Chest pain and heart disease')\n",
    "plt.xticks(np.arange(4), ('Typical Angina','Atypical Angina','Non Anginal Pain','Asymptomatic'))\n",
    "plt.xlabel('Chest Pain Level')\n",
    "plt.ylabel('Frequency')\n",
    "plt.xticks(rotation=0)\n",
    "plt.legend(['No Disease', 'Disease'])\n",
    "plt.show()"
   ]
  },
  {
   "cell_type": "markdown",
   "id": "17740a08",
   "metadata": {},
   "source": [
    "### ECG Slope and Heart Disease"
   ]
  },
  {
   "cell_type": "markdown",
   "id": "0cf17e20",
   "metadata": {},
   "source": [
    "This shows ECG slope and its relation with heart diseases."
   ]
  },
  {
   "cell_type": "code",
   "execution_count": 13,
   "id": "a34a1330",
   "metadata": {},
   "outputs": [
    {
     "data": {
      "image/png": "[encoded data removed]",
      "text/plain": [
       "<Figure size 1500x600 with 1 Axes>"
      ]
     },
     "metadata": {},
     "output_type": "display_data"
    }
   ],
   "source": [
    "pd.crosstab(df.slope,df.target).plot(kind='bar',figsize=(15,6))\n",
    "plt.title('ECG Slope and Heart Disease')\n",
    "plt.xticks(np.arange(3), ('Upsloping','flat','Downsloping'))\n",
    "plt.xlabel('Slope Type')\n",
    "plt.ylabel('Frequency')\n",
    "plt.xticks(rotation=0)\n",
    "plt.legend(['No Disease', 'Disease'])\n",
    "plt.show()"
   ]
  },
  {
   "cell_type": "markdown",
   "id": "05cf6455",
   "metadata": {},
   "source": [
    "### Fasting Blood Sugar and Heart Disease"
   ]
  },
  {
   "cell_type": "markdown",
   "id": "5c5181b0",
   "metadata": {},
   "source": [
    "This shows blood sugar and its relation with heart diseases."
   ]
  },
  {
   "cell_type": "code",
   "execution_count": 14,
   "id": "35869245",
   "metadata": {},
   "outputs": [
    {
     "data": {
      "image/png": "[encoded data removed]",
      "text/plain": [
       "<Figure size 1500x600 with 1 Axes>"
      ]
     },
     "metadata": {},
     "output_type": "display_data"
    }
   ],
   "source": [
    "pd.crosstab(df.fbs,df.target).plot(kind='bar',figsize=(15,6))\n",
    "plt.title('Fasting Blood Sugar and Heart Disease')\n",
    "plt.xticks(np.arange(2), ('Greater Than 120 mg/dl','Less Than 120 mg/dl'))\n",
    "plt.xlabel('Blood Sugar Levels')\n",
    "plt.ylabel('Frequency')\n",
    "plt.xticks(rotation=0)\n",
    "plt.legend(['No Disease', 'Disease'])\n",
    "plt.show()"
   ]
  },
  {
   "cell_type": "markdown",
   "id": "de64ef2c",
   "metadata": {},
   "source": [
    "### Exercise Induced Angina and Heart Disease"
   ]
  },
  {
   "cell_type": "markdown",
   "id": "1f67184f",
   "metadata": {},
   "source": [
    "This shows Exercise Induced Angina and its relation with heart diseases."
   ]
  },
  {
   "cell_type": "code",
   "execution_count": 15,
   "id": "26b7b297",
   "metadata": {},
   "outputs": [
    {
     "data": {
      "image/png": "[encoded data removed]",
      "text/plain": [
       "<Figure size 1500x600 with 1 Axes>"
      ]
     },
     "metadata": {},
     "output_type": "display_data"
    }
   ],
   "source": [
    "pd.crosstab(df.exang,df.target).plot(kind='bar',figsize=(15,6))\n",
    "plt.title('Exercise induced angina and Heart Disease')\n",
    "plt.xticks(np.arange(2), ('No Pain','Pain'))\n",
    "plt.xlabel('Exercise Induced Angina')\n",
    "plt.ylabel('Frequency')\n",
    "plt.xticks(rotation=0)\n",
    "plt.legend(['No Disease', 'Disease'])\n",
    "plt.show()"
   ]
  },
  {
   "cell_type": "markdown",
   "id": "d166aa94",
   "metadata": {},
   "source": [
    "### Resting ECG and Heart Disease"
   ]
  },
  {
   "cell_type": "markdown",
   "id": "0edad99b",
   "metadata": {},
   "source": [
    "This shows Resting ECG and its relation with heart diseases."
   ]
  },
  {
   "cell_type": "code",
   "execution_count": 16,
   "id": "32cdb88e",
   "metadata": {},
   "outputs": [
    {
     "data": {
      "image/png": "[encoded data removed]",
      "text/plain": [
       "<Figure size 1500x600 with 1 Axes>"
      ]
     },
     "metadata": {},
     "output_type": "display_data"
    }
   ],
   "source": [
    "pd.crosstab(df.restecg,df.target).plot(kind='bar',figsize=(15,6))\n",
    "plt.title('Rest ECG and Heart Disease')\n",
    "plt.xticks(np.arange(3), ('Normal','ST-T wave abnormality','Probable or definite left ventricular hypertrophy '))\n",
    "plt.xlabel('Resting ECG')\n",
    "plt.ylabel('Frequency')\n",
    "plt.xticks(rotation=0)\n",
    "plt.legend(['No Disease', 'Disease'])\n",
    "plt.show()"
   ]
  },
  {
   "cell_type": "markdown",
   "id": "1b8d9aed",
   "metadata": {},
   "source": [
    "# Data Preprocessing"
   ]
  },
  {
   "cell_type": "markdown",
   "id": "4078cba2",
   "metadata": {},
   "source": [
    "## Creating Dummy Values and Putting them in the Data Frame"
   ]
  },
  {
   "cell_type": "code",
   "execution_count": 17,
   "id": "d40aa8b4",
   "metadata": {
    "scrolled": true
   },
   "outputs": [
    {
     "data": {
      "text/html": [
       "<div>\n",
       "<style scoped>\n",
       "    .dataframe tbody tr th:only-of-type {\n",
       "        vertical-align: middle;\n",
       "    }\n",
       "\n",
       "    .dataframe tbody tr th {\n",
       "        vertical-align: top;\n",
       "    }\n",
       "\n",
       "    .dataframe thead th {\n",
       "        text-align: right;\n",
       "    }\n",
       "</style>\n",
       "<table border=\"1\" class=\"dataframe\">\n",
       "  <thead>\n",
       "    <tr style=\"text-align: right;\">\n",
       "      <th></th>\n",
       "      <th>age</th>\n",
       "      <th>trestbps</th>\n",
       "      <th>chol</th>\n",
       "      <th>thalach</th>\n",
       "      <th>oldpeak</th>\n",
       "      <th>target</th>\n",
       "      <th>cp_0</th>\n",
       "      <th>cp_1</th>\n",
       "      <th>cp_2</th>\n",
       "      <th>cp_3</th>\n",
       "      <th>...</th>\n",
       "      <th>exang_0</th>\n",
       "      <th>exang_1</th>\n",
       "      <th>ca_0</th>\n",
       "      <th>ca_1</th>\n",
       "      <th>ca_2</th>\n",
       "      <th>ca_3</th>\n",
       "      <th>ca_4</th>\n",
       "      <th>restecg_0</th>\n",
       "      <th>restecg_1</th>\n",
       "      <th>restecg_2</th>\n",
       "    </tr>\n",
       "  </thead>\n",
       "  <tbody>\n",
       "    <tr>\n",
       "      <th>0</th>\n",
       "      <td>63</td>\n",
       "      <td>145</td>\n",
       "      <td>233</td>\n",
       "      <td>150</td>\n",
       "      <td>2.3</td>\n",
       "      <td>1</td>\n",
       "      <td>0</td>\n",
       "      <td>0</td>\n",
       "      <td>0</td>\n",
       "      <td>1</td>\n",
       "      <td>...</td>\n",
       "      <td>1</td>\n",
       "      <td>0</td>\n",
       "      <td>1</td>\n",
       "      <td>0</td>\n",
       "      <td>0</td>\n",
       "      <td>0</td>\n",
       "      <td>0</td>\n",
       "      <td>1</td>\n",
       "      <td>0</td>\n",
       "      <td>0</td>\n",
       "    </tr>\n",
       "    <tr>\n",
       "      <th>1</th>\n",
       "      <td>37</td>\n",
       "      <td>130</td>\n",
       "      <td>250</td>\n",
       "      <td>187</td>\n",
       "      <td>3.5</td>\n",
       "      <td>1</td>\n",
       "      <td>0</td>\n",
       "      <td>0</td>\n",
       "      <td>1</td>\n",
       "      <td>0</td>\n",
       "      <td>...</td>\n",
       "      <td>1</td>\n",
       "      <td>0</td>\n",
       "      <td>1</td>\n",
       "      <td>0</td>\n",
       "      <td>0</td>\n",
       "      <td>0</td>\n",
       "      <td>0</td>\n",
       "      <td>0</td>\n",
       "      <td>1</td>\n",
       "      <td>0</td>\n",
       "    </tr>\n",
       "    <tr>\n",
       "      <th>2</th>\n",
       "      <td>41</td>\n",
       "      <td>130</td>\n",
       "      <td>204</td>\n",
       "      <td>172</td>\n",
       "      <td>1.4</td>\n",
       "      <td>1</td>\n",
       "      <td>0</td>\n",
       "      <td>1</td>\n",
       "      <td>0</td>\n",
       "      <td>0</td>\n",
       "      <td>...</td>\n",
       "      <td>1</td>\n",
       "      <td>0</td>\n",
       "      <td>1</td>\n",
       "      <td>0</td>\n",
       "      <td>0</td>\n",
       "      <td>0</td>\n",
       "      <td>0</td>\n",
       "      <td>1</td>\n",
       "      <td>0</td>\n",
       "      <td>0</td>\n",
       "    </tr>\n",
       "    <tr>\n",
       "      <th>3</th>\n",
       "      <td>56</td>\n",
       "      <td>120</td>\n",
       "      <td>236</td>\n",
       "      <td>178</td>\n",
       "      <td>0.8</td>\n",
       "      <td>1</td>\n",
       "      <td>0</td>\n",
       "      <td>1</td>\n",
       "      <td>0</td>\n",
       "      <td>0</td>\n",
       "      <td>...</td>\n",
       "      <td>1</td>\n",
       "      <td>0</td>\n",
       "      <td>1</td>\n",
       "      <td>0</td>\n",
       "      <td>0</td>\n",
       "      <td>0</td>\n",
       "      <td>0</td>\n",
       "      <td>0</td>\n",
       "      <td>1</td>\n",
       "      <td>0</td>\n",
       "    </tr>\n",
       "    <tr>\n",
       "      <th>4</th>\n",
       "      <td>57</td>\n",
       "      <td>120</td>\n",
       "      <td>354</td>\n",
       "      <td>163</td>\n",
       "      <td>0.6</td>\n",
       "      <td>1</td>\n",
       "      <td>1</td>\n",
       "      <td>0</td>\n",
       "      <td>0</td>\n",
       "      <td>0</td>\n",
       "      <td>...</td>\n",
       "      <td>0</td>\n",
       "      <td>1</td>\n",
       "      <td>1</td>\n",
       "      <td>0</td>\n",
       "      <td>0</td>\n",
       "      <td>0</td>\n",
       "      <td>0</td>\n",
       "      <td>0</td>\n",
       "      <td>1</td>\n",
       "      <td>0</td>\n",
       "    </tr>\n",
       "  </tbody>\n",
       "</table>\n",
       "<p>5 rows × 31 columns</p>\n",
       "</div>"
      ],
      "text/plain": [
       "   age  trestbps  chol  thalach  oldpeak  target  cp_0  cp_1  cp_2  cp_3  ...  \\\n",
       "0   63       145   233      150      2.3       1     0     0     0     1  ...   \n",
       "1   37       130   250      187      3.5       1     0     0     1     0  ...   \n",
       "2   41       130   204      172      1.4       1     0     1     0     0  ...   \n",
       "3   56       120   236      178      0.8       1     0     1     0     0  ...   \n",
       "4   57       120   354      163      0.6       1     1     0     0     0  ...   \n",
       "\n",
       "   exang_0  exang_1  ca_0  ca_1  ca_2  ca_3  ca_4  restecg_0  restecg_1  \\\n",
       "0        1        0     1     0     0     0     0          1          0   \n",
       "1        1        0     1     0     0     0     0          0          1   \n",
       "2        1        0     1     0     0     0     0          1          0   \n",
       "3        1        0     1     0     0     0     0          0          1   \n",
       "4        0        1     1     0     0     0     0          0          1   \n",
       "\n",
       "   restecg_2  \n",
       "0          0  \n",
       "1          0  \n",
       "2          0  \n",
       "3          0  \n",
       "4          0  \n",
       "\n",
       "[5 rows x 31 columns]"
      ]
     },
     "execution_count": 17,
     "metadata": {},
     "output_type": "execute_result"
    }
   ],
   "source": [
    "## Create dummy values\n",
    "Dum_CP = pd.get_dummies(df['cp'], prefix = \"cp\")\n",
    "Dum_Thal = pd.get_dummies(df['thal'], prefix = \"thal\")\n",
    "Dum_Slope = pd.get_dummies(df['slope'], prefix = \"slope\")\n",
    "Dum_Sex = pd.get_dummies(df['sex'], prefix = \"sex\")\n",
    "Dum_Fbs = pd.get_dummies(df['fbs'], prefix = \"fbs\")\n",
    "Dum_Exang = pd.get_dummies(df['exang'], prefix = \"exang\")\n",
    "Dum_ca = pd.get_dummies(df['ca'], prefix = \"ca\")\n",
    "Dum_Restecg = pd.get_dummies(df['restecg'], prefix = \"restecg\")\n",
    "frames = [df, Dum_CP, Dum_Thal, Dum_Slope,Dum_Sex,Dum_Fbs,Dum_Exang,Dum_ca,Dum_Restecg]\n",
    "df = pd.concat(frames, axis = 1)\n",
    "## Drop Unwanted ones\n",
    "df = df.drop(columns = ['cp', 'thal', 'slope','sex','fbs','exang','ca','restecg'])\n",
    "df.head()"
   ]
  },
  {
   "cell_type": "markdown",
   "id": "f9f937f5",
   "metadata": {},
   "source": [
    "## Performing StandardScaler On the Data frame"
   ]
  },
  {
   "cell_type": "code",
   "execution_count": 18,
   "id": "26f4640a",
   "metadata": {
    "scrolled": true
   },
   "outputs": [
    {
     "data": {
      "text/html": [
       "<div>\n",
       "<style scoped>\n",
       "    .dataframe tbody tr th:only-of-type {\n",
       "        vertical-align: middle;\n",
       "    }\n",
       "\n",
       "    .dataframe tbody tr th {\n",
       "        vertical-align: top;\n",
       "    }\n",
       "\n",
       "    .dataframe thead th {\n",
       "        text-align: right;\n",
       "    }\n",
       "</style>\n",
       "<table border=\"1\" class=\"dataframe\">\n",
       "  <thead>\n",
       "    <tr style=\"text-align: right;\">\n",
       "      <th></th>\n",
       "      <th>age</th>\n",
       "      <th>trestbps</th>\n",
       "      <th>chol</th>\n",
       "      <th>thalach</th>\n",
       "      <th>oldpeak</th>\n",
       "      <th>target</th>\n",
       "      <th>cp_0</th>\n",
       "      <th>cp_1</th>\n",
       "      <th>cp_2</th>\n",
       "      <th>cp_3</th>\n",
       "      <th>...</th>\n",
       "      <th>exang_0</th>\n",
       "      <th>exang_1</th>\n",
       "      <th>ca_0</th>\n",
       "      <th>ca_1</th>\n",
       "      <th>ca_2</th>\n",
       "      <th>ca_3</th>\n",
       "      <th>ca_4</th>\n",
       "      <th>restecg_0</th>\n",
       "      <th>restecg_1</th>\n",
       "      <th>restecg_2</th>\n",
       "    </tr>\n",
       "  </thead>\n",
       "  <tbody>\n",
       "    <tr>\n",
       "      <th>0</th>\n",
       "      <td>0.952197</td>\n",
       "      <td>0.763956</td>\n",
       "      <td>-0.256334</td>\n",
       "      <td>0.015443</td>\n",
       "      <td>1.087338</td>\n",
       "      <td>1</td>\n",
       "      <td>0</td>\n",
       "      <td>0</td>\n",
       "      <td>0</td>\n",
       "      <td>1</td>\n",
       "      <td>...</td>\n",
       "      <td>1</td>\n",
       "      <td>0</td>\n",
       "      <td>1</td>\n",
       "      <td>0</td>\n",
       "      <td>0</td>\n",
       "      <td>0</td>\n",
       "      <td>0</td>\n",
       "      <td>1</td>\n",
       "      <td>0</td>\n",
       "      <td>0</td>\n",
       "    </tr>\n",
       "    <tr>\n",
       "      <th>1</th>\n",
       "      <td>-1.915313</td>\n",
       "      <td>-0.092738</td>\n",
       "      <td>0.072199</td>\n",
       "      <td>1.633471</td>\n",
       "      <td>2.122573</td>\n",
       "      <td>1</td>\n",
       "      <td>0</td>\n",
       "      <td>0</td>\n",
       "      <td>1</td>\n",
       "      <td>0</td>\n",
       "      <td>...</td>\n",
       "      <td>1</td>\n",
       "      <td>0</td>\n",
       "      <td>1</td>\n",
       "      <td>0</td>\n",
       "      <td>0</td>\n",
       "      <td>0</td>\n",
       "      <td>0</td>\n",
       "      <td>0</td>\n",
       "      <td>1</td>\n",
       "      <td>0</td>\n",
       "    </tr>\n",
       "    <tr>\n",
       "      <th>2</th>\n",
       "      <td>-1.474158</td>\n",
       "      <td>-0.092738</td>\n",
       "      <td>-0.816773</td>\n",
       "      <td>0.977514</td>\n",
       "      <td>0.310912</td>\n",
       "      <td>1</td>\n",
       "      <td>0</td>\n",
       "      <td>1</td>\n",
       "      <td>0</td>\n",
       "      <td>0</td>\n",
       "      <td>...</td>\n",
       "      <td>1</td>\n",
       "      <td>0</td>\n",
       "      <td>1</td>\n",
       "      <td>0</td>\n",
       "      <td>0</td>\n",
       "      <td>0</td>\n",
       "      <td>0</td>\n",
       "      <td>1</td>\n",
       "      <td>0</td>\n",
       "      <td>0</td>\n",
       "    </tr>\n",
       "    <tr>\n",
       "      <th>3</th>\n",
       "      <td>0.180175</td>\n",
       "      <td>-0.663867</td>\n",
       "      <td>-0.198357</td>\n",
       "      <td>1.239897</td>\n",
       "      <td>-0.206705</td>\n",
       "      <td>1</td>\n",
       "      <td>0</td>\n",
       "      <td>1</td>\n",
       "      <td>0</td>\n",
       "      <td>0</td>\n",
       "      <td>...</td>\n",
       "      <td>1</td>\n",
       "      <td>0</td>\n",
       "      <td>1</td>\n",
       "      <td>0</td>\n",
       "      <td>0</td>\n",
       "      <td>0</td>\n",
       "      <td>0</td>\n",
       "      <td>0</td>\n",
       "      <td>1</td>\n",
       "      <td>0</td>\n",
       "    </tr>\n",
       "    <tr>\n",
       "      <th>4</th>\n",
       "      <td>0.290464</td>\n",
       "      <td>-0.663867</td>\n",
       "      <td>2.082050</td>\n",
       "      <td>0.583939</td>\n",
       "      <td>-0.379244</td>\n",
       "      <td>1</td>\n",
       "      <td>1</td>\n",
       "      <td>0</td>\n",
       "      <td>0</td>\n",
       "      <td>0</td>\n",
       "      <td>...</td>\n",
       "      <td>0</td>\n",
       "      <td>1</td>\n",
       "      <td>1</td>\n",
       "      <td>0</td>\n",
       "      <td>0</td>\n",
       "      <td>0</td>\n",
       "      <td>0</td>\n",
       "      <td>0</td>\n",
       "      <td>1</td>\n",
       "      <td>0</td>\n",
       "    </tr>\n",
       "  </tbody>\n",
       "</table>\n",
       "<p>5 rows × 31 columns</p>\n",
       "</div>"
      ],
      "text/plain": [
       "        age  trestbps      chol   thalach   oldpeak  target  cp_0  cp_1  cp_2  \\\n",
       "0  0.952197  0.763956 -0.256334  0.015443  1.087338       1     0     0     0   \n",
       "1 -1.915313 -0.092738  0.072199  1.633471  2.122573       1     0     0     1   \n",
       "2 -1.474158 -0.092738 -0.816773  0.977514  0.310912       1     0     1     0   \n",
       "3  0.180175 -0.663867 -0.198357  1.239897 -0.206705       1     0     1     0   \n",
       "4  0.290464 -0.663867  2.082050  0.583939 -0.379244       1     1     0     0   \n",
       "\n",
       "   cp_3  ...  exang_0  exang_1  ca_0  ca_1  ca_2  ca_3  ca_4  restecg_0  \\\n",
       "0     1  ...        1        0     1     0     0     0     0          1   \n",
       "1     0  ...        1        0     1     0     0     0     0          0   \n",
       "2     0  ...        1        0     1     0     0     0     0          1   \n",
       "3     0  ...        1        0     1     0     0     0     0          0   \n",
       "4     0  ...        0        1     1     0     0     0     0          0   \n",
       "\n",
       "   restecg_1  restecg_2  \n",
       "0          0          0  \n",
       "1          1          0  \n",
       "2          0          0  \n",
       "3          1          0  \n",
       "4          1          0  \n",
       "\n",
       "[5 rows x 31 columns]"
      ]
     },
     "execution_count": 18,
     "metadata": {},
     "output_type": "execute_result"
    }
   ],
   "source": [
    "## Perform Standardization\n",
    "from sklearn.preprocessing import StandardScaler\n",
    "s_sc = StandardScaler()\n",
    "cts = ['age','trestbps', 'chol', 'thalach', 'oldpeak']\n",
    "df[cts] = s_sc.fit_transform(df[cts])\n",
    "df.head()"
   ]
  },
  {
   "cell_type": "code",
   "execution_count": 19,
   "id": "aefbe9a0",
   "metadata": {},
   "outputs": [
    {
     "data": {
      "text/plain": [
       "Index(['age', 'trestbps', 'chol', 'thalach', 'oldpeak', 'target', 'cp_0',\n",
       "       'cp_1', 'cp_2', 'cp_3', 'thal_0', 'thal_1', 'thal_2', 'thal_3',\n",
       "       'slope_0', 'slope_1', 'slope_2', 'sex_0', 'sex_1', 'fbs_0', 'fbs_1',\n",
       "       'exang_0', 'exang_1', 'ca_0', 'ca_1', 'ca_2', 'ca_3', 'ca_4',\n",
       "       'restecg_0', 'restecg_1', 'restecg_2'],\n",
       "      dtype='object')"
      ]
     },
     "execution_count": 19,
     "metadata": {},
     "output_type": "execute_result"
    }
   ],
   "source": [
    "df.columns"
   ]
  },
  {
   "cell_type": "markdown",
   "id": "ae6ddd65",
   "metadata": {},
   "source": [
    "## Splitting the data for Training and Testing"
   ]
  },
  {
   "cell_type": "code",
   "execution_count": 20,
   "id": "7940ed51",
   "metadata": {},
   "outputs": [],
   "source": [
    "y = df.target.values\n",
    "x = df.drop(['target'], axis = 1)"
   ]
  },
  {
   "cell_type": "code",
   "execution_count": 21,
   "id": "63f6d138",
   "metadata": {},
   "outputs": [],
   "source": [
    "## Split Data\n",
    "x_train, x_test, y_train, y_test = train_test_split(x,y,test_size = 0.3,random_state=44)"
   ]
  },
  {
   "cell_type": "markdown",
   "id": "b0e0b7fb",
   "metadata": {},
   "source": [
    "# Training Models"
   ]
  },
  {
   "cell_type": "markdown",
   "id": "18790067",
   "metadata": {},
   "source": [
    "### DecisionTreeClassifier"
   ]
  },
  {
   "cell_type": "code",
   "execution_count": 22,
   "id": "c864fb5d",
   "metadata": {},
   "outputs": [
    {
     "name": "stdout",
     "output_type": "stream",
     "text": [
      "Decision Tree Testing Accuracy 76.92%\n"
     ]
    }
   ],
   "source": [
    "# Decision Tree Classification\n",
    "from sklearn.tree import DecisionTreeClassifier\n",
    "dtc = DecisionTreeClassifier()\n",
    "dtc.fit(x_train, y_train)\n",
    "acc1 = dtc.score(x_test, y_test)*100\n",
    "print(\"Decision Tree Testing Accuracy {:.2f}%\".format(acc1))"
   ]
  },
  {
   "cell_type": "code",
   "execution_count": 23,
   "id": "f89cc2c9",
   "metadata": {},
   "outputs": [],
   "source": [
    "results_df_Pre_Opt= pd.DataFrame(data=[[\"DecisionTreeClassifier\", acc1]], columns=['Model', 'Testing Accuracy %'])"
   ]
  },
  {
   "cell_type": "markdown",
   "id": "41929793",
   "metadata": {},
   "source": [
    "### RandomForestClassifier"
   ]
  },
  {
   "cell_type": "code",
   "execution_count": 24,
   "id": "313cfc08",
   "metadata": {},
   "outputs": [
    {
     "name": "stdout",
     "output_type": "stream",
     "text": [
      "Random Forest Algorithm Accuracy Score : 81.32%\n"
     ]
    }
   ],
   "source": [
    "# Random Forest Classification\n",
    "from sklearn.ensemble import RandomForestClassifier\n",
    "rf = RandomForestClassifier(n_estimators = 10, random_state = 1)\n",
    "rf.fit(x_train, y_train)\n",
    "acc2 = rf.score(x_test,y_test)*100\n",
    "print(\"Random Forest Algorithm Accuracy Score : {:.2f}%\".format(acc2))\n"
   ]
  },
  {
   "cell_type": "code",
   "execution_count": 25,
   "id": "c983568a",
   "metadata": {},
   "outputs": [
    {
     "name": "stderr",
     "output_type": "stream",
     "text": [
      "C:\\Users\\abdul\\AppData\\Local\\Temp\\ipykernel_18512\\3815917980.py:2: FutureWarning: The frame.append method is deprecated and will be removed from pandas in a future version. Use pandas.concat instead.\n",
      "  results_df_Pre_Opt = results_df_Pre_Opt.append(results_df2, ignore_index=True)\n"
     ]
    }
   ],
   "source": [
    "results_df2 = pd.DataFrame(data=[[\"RandomForestClassifier\", acc2]], columns=['Model', 'Testing Accuracy %'])\n",
    "results_df_Pre_Opt = results_df_Pre_Opt.append(results_df2, ignore_index=True)"
   ]
  },
  {
   "cell_type": "markdown",
   "id": "95080575",
   "metadata": {},
   "source": [
    "### Support Vector Machine"
   ]
  },
  {
   "cell_type": "code",
   "execution_count": 26,
   "id": "9a4f2e97",
   "metadata": {},
   "outputs": [
    {
     "name": "stdout",
     "output_type": "stream",
     "text": [
      "Test Accuracy of SVM Algorithm: 83.52%\n"
     ]
    }
   ],
   "source": [
    "# SVM Classification\n",
    "from sklearn.svm import SVC\n",
    "svm = SVC(random_state = 1)\n",
    "svm.fit(x_train, y_train)\n",
    "acc3 = svm.score(x_test,y_test)*100\n",
    "print(\"SVM Algorithm Accuracy Score: {:.2f}%\".format(acc3))"
   ]
  },
  {
   "cell_type": "code",
   "execution_count": 27,
   "id": "55c00e89",
   "metadata": {},
   "outputs": [
    {
     "name": "stderr",
     "output_type": "stream",
     "text": [
      "C:\\Users\\abdul\\AppData\\Local\\Temp\\ipykernel_18512\\2862951629.py:2: FutureWarning: The frame.append method is deprecated and will be removed from pandas in a future version. Use pandas.concat instead.\n",
      "  results_df_Pre_Opt = results_df_Pre_Opt.append(results_df2, ignore_index=True)\n"
     ]
    }
   ],
   "source": [
    "results_df2 = pd.DataFrame(data=[[\"Support Vector Machine\", acc3]], columns=['Model', 'Testing Accuracy %'])\n",
    "results_df_Pre_Opt = results_df_Pre_Opt.append(results_df2, ignore_index=True)"
   ]
  },
  {
   "cell_type": "markdown",
   "id": "d372992c",
   "metadata": {},
   "source": [
    "## Predicting Values"
   ]
  },
  {
   "cell_type": "code",
   "execution_count": 28,
   "id": "8ce99f7f",
   "metadata": {},
   "outputs": [],
   "source": [
    "# Predicted values\n",
    "y_pred_svm = svm.predict(x_test)\n",
    "y_pred_dtc = dtc.predict(x_test)\n",
    "y_pred_rf = rf.predict(x_test)"
   ]
  },
  {
   "cell_type": "markdown",
   "id": "d13d2326",
   "metadata": {},
   "source": [
    "### Random Forest Prediction"
   ]
  },
  {
   "cell_type": "code",
   "execution_count": 29,
   "id": "18ce862b",
   "metadata": {},
   "outputs": [
    {
     "data": {
      "text/html": [
       "<div>\n",
       "<style scoped>\n",
       "    .dataframe tbody tr th:only-of-type {\n",
       "        vertical-align: middle;\n",
       "    }\n",
       "\n",
       "    .dataframe tbody tr th {\n",
       "        vertical-align: top;\n",
       "    }\n",
       "\n",
       "    .dataframe thead th {\n",
       "        text-align: right;\n",
       "    }\n",
       "</style>\n",
       "<table border=\"1\" class=\"dataframe\">\n",
       "  <thead>\n",
       "    <tr style=\"text-align: right;\">\n",
       "      <th></th>\n",
       "      <th>Actual</th>\n",
       "      <th>Predicted</th>\n",
       "    </tr>\n",
       "  </thead>\n",
       "  <tbody>\n",
       "    <tr>\n",
       "      <th>0</th>\n",
       "      <td>1</td>\n",
       "      <td>1</td>\n",
       "    </tr>\n",
       "    <tr>\n",
       "      <th>1</th>\n",
       "      <td>1</td>\n",
       "      <td>1</td>\n",
       "    </tr>\n",
       "    <tr>\n",
       "      <th>2</th>\n",
       "      <td>0</td>\n",
       "      <td>1</td>\n",
       "    </tr>\n",
       "    <tr>\n",
       "      <th>3</th>\n",
       "      <td>0</td>\n",
       "      <td>1</td>\n",
       "    </tr>\n",
       "    <tr>\n",
       "      <th>4</th>\n",
       "      <td>1</td>\n",
       "      <td>1</td>\n",
       "    </tr>\n",
       "  </tbody>\n",
       "</table>\n",
       "</div>"
      ],
      "text/plain": [
       "   Actual  Predicted\n",
       "0       1          1\n",
       "1       1          1\n",
       "2       0          1\n",
       "3       0          1\n",
       "4       1          1"
      ]
     },
     "execution_count": 29,
     "metadata": {},
     "output_type": "execute_result"
    }
   ],
   "source": [
    "y_pred_rf0 = pd.DataFrame( { \"Actual\": y_test,  \"Predicted\": y_pred_rf } )\n",
    "y_pred_rf0.head()"
   ]
  },
  {
   "cell_type": "markdown",
   "id": "a7d7fba8",
   "metadata": {},
   "source": [
    "### Decision Tree Prediction"
   ]
  },
  {
   "cell_type": "code",
   "execution_count": 30,
   "id": "d8dc89a2",
   "metadata": {},
   "outputs": [
    {
     "data": {
      "text/html": [
       "<div>\n",
       "<style scoped>\n",
       "    .dataframe tbody tr th:only-of-type {\n",
       "        vertical-align: middle;\n",
       "    }\n",
       "\n",
       "    .dataframe tbody tr th {\n",
       "        vertical-align: top;\n",
       "    }\n",
       "\n",
       "    .dataframe thead th {\n",
       "        text-align: right;\n",
       "    }\n",
       "</style>\n",
       "<table border=\"1\" class=\"dataframe\">\n",
       "  <thead>\n",
       "    <tr style=\"text-align: right;\">\n",
       "      <th></th>\n",
       "      <th>Actual</th>\n",
       "      <th>Predicted</th>\n",
       "    </tr>\n",
       "  </thead>\n",
       "  <tbody>\n",
       "    <tr>\n",
       "      <th>0</th>\n",
       "      <td>1</td>\n",
       "      <td>0</td>\n",
       "    </tr>\n",
       "    <tr>\n",
       "      <th>1</th>\n",
       "      <td>1</td>\n",
       "      <td>0</td>\n",
       "    </tr>\n",
       "    <tr>\n",
       "      <th>2</th>\n",
       "      <td>0</td>\n",
       "      <td>0</td>\n",
       "    </tr>\n",
       "    <tr>\n",
       "      <th>3</th>\n",
       "      <td>0</td>\n",
       "      <td>0</td>\n",
       "    </tr>\n",
       "    <tr>\n",
       "      <th>4</th>\n",
       "      <td>1</td>\n",
       "      <td>1</td>\n",
       "    </tr>\n",
       "  </tbody>\n",
       "</table>\n",
       "</div>"
      ],
      "text/plain": [
       "   Actual  Predicted\n",
       "0       1          0\n",
       "1       1          0\n",
       "2       0          0\n",
       "3       0          0\n",
       "4       1          1"
      ]
     },
     "execution_count": 30,
     "metadata": {},
     "output_type": "execute_result"
    }
   ],
   "source": [
    "y_pred_dtc0 = pd.DataFrame( { \"Actual\": y_test,  \"Predicted\": y_pred_dtc } )\n",
    "y_pred_dtc0.head()"
   ]
  },
  {
   "cell_type": "markdown",
   "id": "6b2e0dd7",
   "metadata": {},
   "source": [
    "### Support Vector Machine Prediction"
   ]
  },
  {
   "cell_type": "code",
   "execution_count": 31,
   "id": "48cf1de1",
   "metadata": {},
   "outputs": [
    {
     "data": {
      "text/html": [
       "<div>\n",
       "<style scoped>\n",
       "    .dataframe tbody tr th:only-of-type {\n",
       "        vertical-align: middle;\n",
       "    }\n",
       "\n",
       "    .dataframe tbody tr th {\n",
       "        vertical-align: top;\n",
       "    }\n",
       "\n",
       "    .dataframe thead th {\n",
       "        text-align: right;\n",
       "    }\n",
       "</style>\n",
       "<table border=\"1\" class=\"dataframe\">\n",
       "  <thead>\n",
       "    <tr style=\"text-align: right;\">\n",
       "      <th></th>\n",
       "      <th>Actual</th>\n",
       "      <th>Predicted</th>\n",
       "    </tr>\n",
       "  </thead>\n",
       "  <tbody>\n",
       "    <tr>\n",
       "      <th>0</th>\n",
       "      <td>1</td>\n",
       "      <td>1</td>\n",
       "    </tr>\n",
       "    <tr>\n",
       "      <th>1</th>\n",
       "      <td>1</td>\n",
       "      <td>1</td>\n",
       "    </tr>\n",
       "    <tr>\n",
       "      <th>2</th>\n",
       "      <td>0</td>\n",
       "      <td>1</td>\n",
       "    </tr>\n",
       "    <tr>\n",
       "      <th>3</th>\n",
       "      <td>0</td>\n",
       "      <td>1</td>\n",
       "    </tr>\n",
       "    <tr>\n",
       "      <th>4</th>\n",
       "      <td>1</td>\n",
       "      <td>1</td>\n",
       "    </tr>\n",
       "  </tbody>\n",
       "</table>\n",
       "</div>"
      ],
      "text/plain": [
       "   Actual  Predicted\n",
       "0       1          1\n",
       "1       1          1\n",
       "2       0          1\n",
       "3       0          1\n",
       "4       1          1"
      ]
     },
     "execution_count": 31,
     "metadata": {},
     "output_type": "execute_result"
    }
   ],
   "source": [
    "y_pred_svm0 = pd.DataFrame( { \"Actual\": y_test,  \"Predicted\": y_pred_svm } )\n",
    "y_pred_svm0.head()"
   ]
  },
  {
   "cell_type": "markdown",
   "id": "5235eb38",
   "metadata": {},
   "source": [
    "## Testing Accuracy before Hyper Parameter Tuning"
   ]
  },
  {
   "cell_type": "code",
   "execution_count": 32,
   "id": "9297e366",
   "metadata": {},
   "outputs": [
    {
     "data": {
      "text/html": [
       "<div>\n",
       "<style scoped>\n",
       "    .dataframe tbody tr th:only-of-type {\n",
       "        vertical-align: middle;\n",
       "    }\n",
       "\n",
       "    .dataframe tbody tr th {\n",
       "        vertical-align: top;\n",
       "    }\n",
       "\n",
       "    .dataframe thead th {\n",
       "        text-align: right;\n",
       "    }\n",
       "</style>\n",
       "<table border=\"1\" class=\"dataframe\">\n",
       "  <thead>\n",
       "    <tr style=\"text-align: right;\">\n",
       "      <th></th>\n",
       "      <th>Model</th>\n",
       "      <th>Testing Accuracy %</th>\n",
       "    </tr>\n",
       "  </thead>\n",
       "  <tbody>\n",
       "    <tr>\n",
       "      <th>0</th>\n",
       "      <td>DecisionTreeClassifier</td>\n",
       "      <td>76.923077</td>\n",
       "    </tr>\n",
       "    <tr>\n",
       "      <th>1</th>\n",
       "      <td>RandomForestClassifier</td>\n",
       "      <td>81.318681</td>\n",
       "    </tr>\n",
       "    <tr>\n",
       "      <th>2</th>\n",
       "      <td>Support Vector Machine</td>\n",
       "      <td>83.516484</td>\n",
       "    </tr>\n",
       "  </tbody>\n",
       "</table>\n",
       "</div>"
      ],
      "text/plain": [
       "                    Model  Testing Accuracy %\n",
       "0  DecisionTreeClassifier           76.923077\n",
       "1  RandomForestClassifier           81.318681\n",
       "2  Support Vector Machine           83.516484"
      ]
     },
     "execution_count": 32,
     "metadata": {},
     "output_type": "execute_result"
    }
   ],
   "source": [
    "results_df_Pre_Opt"
   ]
  },
  {
   "cell_type": "markdown",
   "id": "d8a70daa",
   "metadata": {},
   "source": [
    "## Confusion Matrix"
   ]
  },
  {
   "cell_type": "code",
   "execution_count": 33,
   "id": "f391b126",
   "metadata": {},
   "outputs": [],
   "source": [
    "## Make confusion Matrix\n",
    "from sklearn.metrics import confusion_matrix\n",
    "cm_svm = confusion_matrix(y_test,y_pred_svm)\n",
    "cm_dtc = confusion_matrix(y_test,y_pred_dtc)\n",
    "cm_rf = confusion_matrix(y_test,y_pred_rf)"
   ]
  },
  {
   "cell_type": "code",
   "execution_count": 34,
   "id": "e8e3f254",
   "metadata": {},
   "outputs": [
    {
     "data": {
      "image/png": "[encoded data removed]",
      "text/plain": [
       "<Figure size 2400x1200 with 3 Axes>"
      ]
     },
     "metadata": {},
     "output_type": "display_data"
    }
   ],
   "source": [
    "plt.figure(figsize=(24,12))\n",
    "\n",
    "plt.suptitle(\"Confusion Matrixes\",fontsize=24)\n",
    "plt.subplots_adjust(wspace = 0.4, hspace= 0.4)\n",
    "\n",
    "plt.subplot(2,3,1)\n",
    "plt.title(\"SVM Confusion Matrix\")\n",
    "sns.heatmap(cm_svm,annot=True,cmap=\"Reds\",fmt=\"d\",cbar=False, annot_kws={\"size\": 24})\n",
    "\n",
    "plt.subplot(2,3,2)\n",
    "plt.title(\"Decision Tree Classifier Confusion Matrix\")\n",
    "sns.heatmap(cm_dtc,annot=True,cmap=\"Reds\",fmt=\"d\",cbar=False, annot_kws={\"size\": 24})\n",
    "\n",
    "plt.subplot(2,3,3)\n",
    "plt.title(\"Random Forest Confusion Matrix\")\n",
    "sns.heatmap(cm_rf,annot=True,cmap=\"Reds\",fmt=\"d\",cbar=False, annot_kws={\"size\": 24})\n",
    "\n",
    "plt.show()"
   ]
  },
  {
   "cell_type": "markdown",
   "id": "16f241eb",
   "metadata": {},
   "source": [
    "## Hyper Parameter Tuning"
   ]
  },
  {
   "cell_type": "markdown",
   "id": "7c47b257",
   "metadata": {},
   "source": [
    "### Decision Tree Hyper Parameter Tuning"
   ]
  },
  {
   "cell_type": "code",
   "execution_count": 35,
   "id": "fbdffc10",
   "metadata": {},
   "outputs": [
    {
     "name": "stdout",
     "output_type": "stream",
     "text": [
      "Fitting 3 folds for each of 4332 candidates, totalling 12996 fits\n"
     ]
    }
   ],
   "source": [
    "# Help taken from https://www.kaggle.com/code/faressayah/predicting-heart-disease-using-machine-learning/notebook#%F0%9F%A4%96-Models-Hyperparameter-Tuning\n",
    "## Declare parameters\n",
    "params = {\"criterion\":(\"gini\", \"entropy\"), \n",
    "          \"splitter\":(\"best\", \"random\"), \n",
    "          \"max_depth\":(list(range(1, 20))), \n",
    "          \"min_samples_split\":[2, 3, 4], \n",
    "          \"min_samples_leaf\":list(range(1, 20))\n",
    "          }\n",
    "dtc_cv = GridSearchCV(dtc, params, n_jobs=-1, verbose=1, cv=3)\n",
    "dtc_cv.fit(x_train, y_train)\n",
    "best_params = dtc_cv.best_params_"
   ]
  },
  {
   "cell_type": "code",
   "execution_count": 36,
   "id": "88d64c4e",
   "metadata": {},
   "outputs": [
    {
     "name": "stdout",
     "output_type": "stream",
     "text": [
      "Decision Tree Test Accuracy 81.32%\n"
     ]
    }
   ],
   "source": [
    "## Train Model\n",
    "dtc = DecisionTreeClassifier(**best_params)\n",
    "dtc.fit(x_train, y_train)\n",
    "acc4 = dtc.score(x_test, y_test)*100\n",
    "print(\"Decision Tree Test Accuracy {:.2f}%\".format(acc4))"
   ]
  },
  {
   "cell_type": "code",
   "execution_count": 37,
   "id": "54c4fd4a",
   "metadata": {},
   "outputs": [],
   "source": [
    "results_df_Post_Opt= pd.DataFrame(data=[[\"DecisionTreeClassifier\", acc4]], columns=['Model', 'Testing Accuracy %'])"
   ]
  },
  {
   "cell_type": "markdown",
   "id": "98da24b7",
   "metadata": {},
   "source": [
    "### Random Forest Hyper Parameter Tuning"
   ]
  },
  {
   "cell_type": "code",
   "execution_count": 38,
   "id": "c5fa65bb",
   "metadata": {},
   "outputs": [
    {
     "name": "stdout",
     "output_type": "stream",
     "text": [
      "Fitting 2 folds for each of 19008 candidates, totalling 38016 fits\n"
     ]
    }
   ],
   "source": [
    "# Help taken From https://www.kaggle.com/code/arjunprasadsarkhel/simple-random-forest-with-hyperparameter-tuning\n",
    "## Declare parameters\n",
    "n_estimators = [50,100,200,500,600,700,800,2000,5000]\n",
    "max_features = ['auto', 'sqrt']\n",
    "max_depth = [2, 3, 5, 10, 15, 20, 25, 50, 100, 200, 400, None]\n",
    "min_samples_split = [2, 5, 10, 15, 20, 40, 80, 120]\n",
    "min_samples_leaf = [1, 2, 4, 6, 8, 10, 12, 14, 16, 18, 20]\n",
    "\n",
    "params_grid = {\n",
    "    'n_estimators': n_estimators, \n",
    "    'max_features': max_features,\n",
    "    'max_depth': max_depth, \n",
    "    'min_samples_split': min_samples_split,\n",
    "    'min_samples_leaf': min_samples_leaf\n",
    "              }\n",
    "\n",
    "from sklearn.model_selection import GridSearchCV\n",
    "rf_random = GridSearchCV(rf, params_grid, cv = 2, verbose=2, n_jobs = -1)\n",
    "rf_random.fit(x_train, y_train)\n",
    "best_params = rf_random.best_params_"
   ]
  },
  {
   "cell_type": "code",
   "execution_count": 39,
   "id": "0c28c103",
   "metadata": {},
   "outputs": [
    {
     "name": "stdout",
     "output_type": "stream",
     "text": [
      "Random Forest Algorithm Accuracy Score : 84.61538%\n"
     ]
    }
   ],
   "source": [
    "## Train Model\n",
    "rf = RandomForestClassifier(**best_params) \n",
    "rf.fit( x_train, y_train)\n",
    "acc5 = rf.score(x_test,y_test)*100\n",
    "print(\"Random Forest Algorithm Accuracy Score : {:.5f}%\".format(acc5))"
   ]
  },
  {
   "cell_type": "code",
   "execution_count": 40,
   "id": "73c7ae1d",
   "metadata": {},
   "outputs": [
    {
     "name": "stderr",
     "output_type": "stream",
     "text": [
      "C:\\Users\\abdul\\AppData\\Local\\Temp\\ipykernel_18512\\318415860.py:2: FutureWarning: The frame.append method is deprecated and will be removed from pandas in a future version. Use pandas.concat instead.\n",
      "  results_df_Post_Opt = results_df_Post_Opt.append(results_df2, ignore_index=True)\n"
     ]
    }
   ],
   "source": [
    "results_df2 = pd.DataFrame(data=[[\"RandomForestClassifier\", acc5]], columns=['Model', 'Testing Accuracy %'])\n",
    "results_df_Post_Opt = results_df_Post_Opt.append(results_df2, ignore_index=True)"
   ]
  },
  {
   "cell_type": "markdown",
   "id": "c837c9d7",
   "metadata": {},
   "source": [
    "### Support Vector Machine Hyper Parameter Tuning"
   ]
  },
  {
   "cell_type": "code",
   "execution_count": 41,
   "id": "aece409b",
   "metadata": {},
   "outputs": [
    {
     "name": "stdout",
     "output_type": "stream",
     "text": [
      "Fitting 5 folds for each of 147 candidates, totalling 735 fits\n"
     ]
    }
   ],
   "source": [
    "## Took help from https://www.kaggle.com/code/rajeevnair676/svm-hyperparameter-tuning\n",
    "## Declare parameters\n",
    "params = {\"C\":(0.1, 0.5, 1, 2, 5, 10, 20), \n",
    "          \"gamma\":(0.001, 0.01, 0.1, 0.25, 0.5, 0.75, 1), \n",
    "          \"kernel\":('linear', 'poly', 'rbf')}\n",
    "\n",
    "svm_cv = GridSearchCV(svm, params, n_jobs=-1, cv=5, verbose=1,)\n",
    "svm_cv.fit(x_train, y_train)\n",
    "best_params = svm_cv.best_params_"
   ]
  },
  {
   "cell_type": "code",
   "execution_count": 42,
   "id": "12455e2c",
   "metadata": {},
   "outputs": [
    {
     "name": "stdout",
     "output_type": "stream",
     "text": [
      "Test Accuracy of SVM Algorithm: 85.71429%\n"
     ]
    }
   ],
   "source": [
    "## Train Parameters\n",
    "svm = SVC(**best_params)\n",
    "svm.fit(x_train, y_train)\n",
    "acc6 = svm.score(x_test,y_test)*100\n",
    "print(\"Test Accuracy of SVM Algorithm: {:.5f}%\".format(acc6))"
   ]
  },
  {
   "cell_type": "code",
   "execution_count": 43,
   "id": "742e170c",
   "metadata": {},
   "outputs": [
    {
     "name": "stderr",
     "output_type": "stream",
     "text": [
      "C:\\Users\\abdul\\AppData\\Local\\Temp\\ipykernel_18512\\1991511788.py:2: FutureWarning: The frame.append method is deprecated and will be removed from pandas in a future version. Use pandas.concat instead.\n",
      "  results_df_Post_Opt = results_df_Post_Opt.append(results_df2, ignore_index=True)\n"
     ]
    }
   ],
   "source": [
    "results_df2 = pd.DataFrame(data=[[\"Support Vector Machine\", acc6]], columns=['Model', 'Testing Accuracy %'])\n",
    "results_df_Post_Opt = results_df_Post_Opt.append(results_df2, ignore_index=True)"
   ]
  },
  {
   "cell_type": "markdown",
   "id": "09248f78",
   "metadata": {},
   "source": [
    "## Predicting Values"
   ]
  },
  {
   "cell_type": "code",
   "execution_count": 56,
   "id": "92f0ecd2",
   "metadata": {},
   "outputs": [],
   "source": [
    "# Predicted values\n",
    "y_pred_svm = svm.predict(x_test)\n",
    "y_pred_dtc = dtc.predict(x_test)\n",
    "y_pred_rf = rf.predict(x_test)"
   ]
  },
  {
   "cell_type": "markdown",
   "id": "9c737d06",
   "metadata": {},
   "source": [
    "### Random Forest Prediction After Tuning"
   ]
  },
  {
   "cell_type": "code",
   "execution_count": 57,
   "id": "8508f024",
   "metadata": {},
   "outputs": [
    {
     "data": {
      "text/html": [
       "<div>\n",
       "<style scoped>\n",
       "    .dataframe tbody tr th:only-of-type {\n",
       "        vertical-align: middle;\n",
       "    }\n",
       "\n",
       "    .dataframe tbody tr th {\n",
       "        vertical-align: top;\n",
       "    }\n",
       "\n",
       "    .dataframe thead th {\n",
       "        text-align: right;\n",
       "    }\n",
       "</style>\n",
       "<table border=\"1\" class=\"dataframe\">\n",
       "  <thead>\n",
       "    <tr style=\"text-align: right;\">\n",
       "      <th></th>\n",
       "      <th>Actual</th>\n",
       "      <th>Predicted</th>\n",
       "    </tr>\n",
       "  </thead>\n",
       "  <tbody>\n",
       "    <tr>\n",
       "      <th>0</th>\n",
       "      <td>1</td>\n",
       "      <td>1</td>\n",
       "    </tr>\n",
       "    <tr>\n",
       "      <th>1</th>\n",
       "      <td>1</td>\n",
       "      <td>1</td>\n",
       "    </tr>\n",
       "    <tr>\n",
       "      <th>2</th>\n",
       "      <td>0</td>\n",
       "      <td>1</td>\n",
       "    </tr>\n",
       "    <tr>\n",
       "      <th>3</th>\n",
       "      <td>0</td>\n",
       "      <td>1</td>\n",
       "    </tr>\n",
       "    <tr>\n",
       "      <th>4</th>\n",
       "      <td>1</td>\n",
       "      <td>1</td>\n",
       "    </tr>\n",
       "  </tbody>\n",
       "</table>\n",
       "</div>"
      ],
      "text/plain": [
       "   Actual  Predicted\n",
       "0       1          1\n",
       "1       1          1\n",
       "2       0          1\n",
       "3       0          1\n",
       "4       1          1"
      ]
     },
     "execution_count": 57,
     "metadata": {},
     "output_type": "execute_result"
    }
   ],
   "source": [
    "y_pred_rf0 = pd.DataFrame( { \"Actual\": y_test,  \"Predicted\": y_pred_rf } )\n",
    "y_pred_rf0.head()"
   ]
  },
  {
   "cell_type": "markdown",
   "id": "f844dd32",
   "metadata": {},
   "source": [
    "### Decision Tree Prediction After Tuning"
   ]
  },
  {
   "cell_type": "code",
   "execution_count": 58,
   "id": "7b639262",
   "metadata": {},
   "outputs": [
    {
     "data": {
      "text/html": [
       "<div>\n",
       "<style scoped>\n",
       "    .dataframe tbody tr th:only-of-type {\n",
       "        vertical-align: middle;\n",
       "    }\n",
       "\n",
       "    .dataframe tbody tr th {\n",
       "        vertical-align: top;\n",
       "    }\n",
       "\n",
       "    .dataframe thead th {\n",
       "        text-align: right;\n",
       "    }\n",
       "</style>\n",
       "<table border=\"1\" class=\"dataframe\">\n",
       "  <thead>\n",
       "    <tr style=\"text-align: right;\">\n",
       "      <th></th>\n",
       "      <th>Actual</th>\n",
       "      <th>Predicted</th>\n",
       "    </tr>\n",
       "  </thead>\n",
       "  <tbody>\n",
       "    <tr>\n",
       "      <th>0</th>\n",
       "      <td>1</td>\n",
       "      <td>1</td>\n",
       "    </tr>\n",
       "    <tr>\n",
       "      <th>1</th>\n",
       "      <td>1</td>\n",
       "      <td>1</td>\n",
       "    </tr>\n",
       "    <tr>\n",
       "      <th>2</th>\n",
       "      <td>0</td>\n",
       "      <td>0</td>\n",
       "    </tr>\n",
       "    <tr>\n",
       "      <th>3</th>\n",
       "      <td>0</td>\n",
       "      <td>1</td>\n",
       "    </tr>\n",
       "    <tr>\n",
       "      <th>4</th>\n",
       "      <td>1</td>\n",
       "      <td>1</td>\n",
       "    </tr>\n",
       "  </tbody>\n",
       "</table>\n",
       "</div>"
      ],
      "text/plain": [
       "   Actual  Predicted\n",
       "0       1          1\n",
       "1       1          1\n",
       "2       0          0\n",
       "3       0          1\n",
       "4       1          1"
      ]
     },
     "execution_count": 58,
     "metadata": {},
     "output_type": "execute_result"
    }
   ],
   "source": [
    "y_pred_dtc0 = pd.DataFrame( { \"Actual\": y_test,  \"Predicted\": y_pred_dtc } )\n",
    "y_pred_dtc0.head()"
   ]
  },
  {
   "cell_type": "markdown",
   "id": "3eb85c83",
   "metadata": {},
   "source": [
    "### Support Vector Machine Prediction After Tuning"
   ]
  },
  {
   "cell_type": "code",
   "execution_count": 59,
   "id": "3af19ca6",
   "metadata": {
    "scrolled": false
   },
   "outputs": [
    {
     "data": {
      "text/html": [
       "<div>\n",
       "<style scoped>\n",
       "    .dataframe tbody tr th:only-of-type {\n",
       "        vertical-align: middle;\n",
       "    }\n",
       "\n",
       "    .dataframe tbody tr th {\n",
       "        vertical-align: top;\n",
       "    }\n",
       "\n",
       "    .dataframe thead th {\n",
       "        text-align: right;\n",
       "    }\n",
       "</style>\n",
       "<table border=\"1\" class=\"dataframe\">\n",
       "  <thead>\n",
       "    <tr style=\"text-align: right;\">\n",
       "      <th></th>\n",
       "      <th>Actual</th>\n",
       "      <th>Predicted</th>\n",
       "    </tr>\n",
       "  </thead>\n",
       "  <tbody>\n",
       "    <tr>\n",
       "      <th>0</th>\n",
       "      <td>1</td>\n",
       "      <td>1</td>\n",
       "    </tr>\n",
       "    <tr>\n",
       "      <th>1</th>\n",
       "      <td>1</td>\n",
       "      <td>1</td>\n",
       "    </tr>\n",
       "    <tr>\n",
       "      <th>2</th>\n",
       "      <td>0</td>\n",
       "      <td>1</td>\n",
       "    </tr>\n",
       "    <tr>\n",
       "      <th>3</th>\n",
       "      <td>0</td>\n",
       "      <td>1</td>\n",
       "    </tr>\n",
       "    <tr>\n",
       "      <th>4</th>\n",
       "      <td>1</td>\n",
       "      <td>1</td>\n",
       "    </tr>\n",
       "  </tbody>\n",
       "</table>\n",
       "</div>"
      ],
      "text/plain": [
       "   Actual  Predicted\n",
       "0       1          1\n",
       "1       1          1\n",
       "2       0          1\n",
       "3       0          1\n",
       "4       1          1"
      ]
     },
     "execution_count": 59,
     "metadata": {},
     "output_type": "execute_result"
    }
   ],
   "source": [
    "y_pred_svm0 = pd.DataFrame( { \"Actual\": y_test,  \"Predicted\": y_pred_svm } )\n",
    "y_pred_svm0.head()"
   ]
  },
  {
   "cell_type": "markdown",
   "id": "cee97c51",
   "metadata": {},
   "source": [
    "# Results"
   ]
  },
  {
   "cell_type": "markdown",
   "id": "8a55de0f",
   "metadata": {},
   "source": [
    "## Testing Accuracy before Hyper Parameter Tuning"
   ]
  },
  {
   "cell_type": "code",
   "execution_count": 49,
   "id": "714fb2ea",
   "metadata": {},
   "outputs": [
    {
     "data": {
      "text/html": [
       "<div>\n",
       "<style scoped>\n",
       "    .dataframe tbody tr th:only-of-type {\n",
       "        vertical-align: middle;\n",
       "    }\n",
       "\n",
       "    .dataframe tbody tr th {\n",
       "        vertical-align: top;\n",
       "    }\n",
       "\n",
       "    .dataframe thead th {\n",
       "        text-align: right;\n",
       "    }\n",
       "</style>\n",
       "<table border=\"1\" class=\"dataframe\">\n",
       "  <thead>\n",
       "    <tr style=\"text-align: right;\">\n",
       "      <th></th>\n",
       "      <th>Model</th>\n",
       "      <th>Testing Accuracy %</th>\n",
       "    </tr>\n",
       "  </thead>\n",
       "  <tbody>\n",
       "    <tr>\n",
       "      <th>0</th>\n",
       "      <td>DecisionTreeClassifier</td>\n",
       "      <td>76.923077</td>\n",
       "    </tr>\n",
       "    <tr>\n",
       "      <th>1</th>\n",
       "      <td>RandomForestClassifier</td>\n",
       "      <td>81.318681</td>\n",
       "    </tr>\n",
       "    <tr>\n",
       "      <th>2</th>\n",
       "      <td>Support Vector Machine</td>\n",
       "      <td>83.516484</td>\n",
       "    </tr>\n",
       "  </tbody>\n",
       "</table>\n",
       "</div>"
      ],
      "text/plain": [
       "                    Model  Testing Accuracy %\n",
       "0  DecisionTreeClassifier           76.923077\n",
       "1  RandomForestClassifier           81.318681\n",
       "2  Support Vector Machine           83.516484"
      ]
     },
     "execution_count": 49,
     "metadata": {},
     "output_type": "execute_result"
    }
   ],
   "source": [
    "results_df_Pre_Opt"
   ]
  },
  {
   "cell_type": "markdown",
   "id": "ebd1b4f5",
   "metadata": {},
   "source": [
    "## Testing Accuracy after Hyper Parameter Tuning"
   ]
  },
  {
   "cell_type": "code",
   "execution_count": 48,
   "id": "fc9a92b7",
   "metadata": {},
   "outputs": [
    {
     "data": {
      "text/html": [
       "<div>\n",
       "<style scoped>\n",
       "    .dataframe tbody tr th:only-of-type {\n",
       "        vertical-align: middle;\n",
       "    }\n",
       "\n",
       "    .dataframe tbody tr th {\n",
       "        vertical-align: top;\n",
       "    }\n",
       "\n",
       "    .dataframe thead th {\n",
       "        text-align: right;\n",
       "    }\n",
       "</style>\n",
       "<table border=\"1\" class=\"dataframe\">\n",
       "  <thead>\n",
       "    <tr style=\"text-align: right;\">\n",
       "      <th></th>\n",
       "      <th>Model</th>\n",
       "      <th>Testing Accuracy %</th>\n",
       "    </tr>\n",
       "  </thead>\n",
       "  <tbody>\n",
       "    <tr>\n",
       "      <th>0</th>\n",
       "      <td>DecisionTreeClassifier</td>\n",
       "      <td>81.318681</td>\n",
       "    </tr>\n",
       "    <tr>\n",
       "      <th>1</th>\n",
       "      <td>RandomForestClassifier</td>\n",
       "      <td>84.615385</td>\n",
       "    </tr>\n",
       "    <tr>\n",
       "      <th>2</th>\n",
       "      <td>Support Vector Machine</td>\n",
       "      <td>85.714286</td>\n",
       "    </tr>\n",
       "  </tbody>\n",
       "</table>\n",
       "</div>"
      ],
      "text/plain": [
       "                    Model  Testing Accuracy %\n",
       "0  DecisionTreeClassifier           81.318681\n",
       "1  RandomForestClassifier           84.615385\n",
       "2  Support Vector Machine           85.714286"
      ]
     },
     "execution_count": 48,
     "metadata": {},
     "output_type": "execute_result"
    }
   ],
   "source": [
    "results_df_Post_Opt"
   ]
  },
  {
   "cell_type": "markdown",
   "id": "c98d9807",
   "metadata": {},
   "source": [
    "## Confusion Matrix"
   ]
  },
  {
   "cell_type": "code",
   "execution_count": 50,
   "id": "ea315e55",
   "metadata": {},
   "outputs": [],
   "source": [
    "## Make confusion Matrix\n",
    "cm_svm = confusion_matrix(y_test,y_pred_svm)\n",
    "cm_dtc = confusion_matrix(y_test,y_pred_dtc)\n",
    "cm_rf = confusion_matrix(y_test,y_pred_rf)"
   ]
  },
  {
   "cell_type": "code",
   "execution_count": 51,
   "id": "4004ba3f",
   "metadata": {},
   "outputs": [
    {
     "data": {
      "image/png": "[encoded data removed]",
      "text/plain": [
       "<Figure size 2400x1200 with 3 Axes>"
      ]
     },
     "metadata": {},
     "output_type": "display_data"
    }
   ],
   "source": [
    "plt.figure(figsize=(24,12))\n",
    "\n",
    "plt.suptitle(\"Confusion Matrixes\",fontsize=24)\n",
    "plt.subplots_adjust(wspace = 0.4, hspace= 0.4)\n",
    "\n",
    "plt.subplot(2,3,1)\n",
    "plt.title(\"SVM Confusion Matrix\")\n",
    "sns.heatmap(cm_svm,annot=True,cmap=\"Reds\",fmt=\"d\",cbar=False, annot_kws={\"size\": 24})\n",
    "\n",
    "plt.subplot(2,3,2)\n",
    "plt.title(\"Decision Tree Classifier Confusion Matrix\")\n",
    "sns.heatmap(cm_dtc,annot=True,cmap=\"Reds\",fmt=\"d\",cbar=False, annot_kws={\"size\": 24})\n",
    "\n",
    "plt.subplot(2,3,3)\n",
    "plt.title(\"Random Forest Confusion Matrix\")\n",
    "sns.heatmap(cm_rf,annot=True,cmap=\"Reds\",fmt=\"d\",cbar=False, annot_kws={\"size\": 24})\n",
    "\n",
    "plt.show()"
   ]
  },
  {
   "cell_type": "markdown",
   "id": "58a59483",
   "metadata": {},
   "source": [
    "## Most Important Features"
   ]
  },
  {
   "cell_type": "code",
   "execution_count": 52,
   "id": "0937bf4e",
   "metadata": {},
   "outputs": [],
   "source": [
    "### Took help from https://www.kaggle.com/code/faressayah/predicting-heart-disease-using-machine-learning/notebook\n",
    "## Extract Most Imp Features\n",
    "def feature_imp(df, model):\n",
    "    fi = pd.DataFrame()\n",
    "    fi[\"feature\"] = df.columns\n",
    "    fi[\"importance\"] = model.feature_importances_\n",
    "    return fi.sort_values(by=\"importance\", ascending=False)"
   ]
  },
  {
   "cell_type": "markdown",
   "id": "184adc1d",
   "metadata": {},
   "source": [
    "### Most important features according to Random Forest"
   ]
  },
  {
   "cell_type": "code",
   "execution_count": 53,
   "id": "c197f62a",
   "metadata": {
    "scrolled": false
   },
   "outputs": [
    {
     "data": {
      "text/plain": [
       "<AxesSubplot:>"
      ]
     },
     "execution_count": 53,
     "metadata": {},
     "output_type": "execute_result"
    },
    {
     "data": {
      "image/png": "[encoded data removed]",
      "text/plain": [
       "<Figure size 1200x700 with 1 Axes>"
      ]
     },
     "metadata": {},
     "output_type": "display_data"
    }
   ],
   "source": [
    "feature_imp(x, rf).plot(kind='barh', figsize=(12,7), legend=False)"
   ]
  },
  {
   "cell_type": "markdown",
   "id": "f4c19635",
   "metadata": {},
   "source": [
    "### Most important features according to Decision Tree Classifier"
   ]
  },
  {
   "cell_type": "code",
   "execution_count": 54,
   "id": "defeb4d1",
   "metadata": {
    "scrolled": false
   },
   "outputs": [
    {
     "data": {
      "text/plain": [
       "<AxesSubplot:>"
      ]
     },
     "execution_count": 54,
     "metadata": {},
     "output_type": "execute_result"
    },
    {
     "data": {
      "image/png": "[encoded data removed]",
      "text/plain": [
       "<Figure size 1200x700 with 1 Axes>"
      ]
     },
     "metadata": {},
     "output_type": "display_data"
    }
   ],
   "source": [
    "feature_imp(x, dtc).plot(kind='barh', figsize=(12,7), legend=False)"
   ]
  },
  {
   "cell_type": "markdown",
   "id": "888b5d7f",
   "metadata": {},
   "source": [
    "# Conclusion:"
   ]
  },
  {
   "cell_type": "markdown",
   "id": "59e7e037",
   "metadata": {},
   "source": [
    "After all the testing we can say that the Support Vector Machine is the most efficient and accurate model. Moreover\n",
    "feature 11 and 12 which are Thalassemia are the most important features. We tried and tested different things in the whole experiment. First off, we noted that lower number of n estimators give higher accuracy. As for SVM random state and accuracy are inversely proportional. One thing that I noted after trying the same code with normalisation instead\n",
    "of standardisation is that the accuracy was all over the place with normalisation."
   ]
  }
 ],
 "metadata": {
  "kernelspec": {
   "display_name": "Python 3 (ipykernel)",
   "language": "python",
   "name": "python3"
  },
  "language_info": {
   "codemirror_mode": {
    "name": "ipython",
    "version": 3
   },
   "file_extension": ".py",
   "mimetype": "text/x-python",
   "name": "python",
   "nbconvert_exporter": "python",
   "pygments_lexer": "ipython3",
   "version": "3.9.13"
  }
 },
 "nbformat": 4,
 "nbformat_minor": 5
}
